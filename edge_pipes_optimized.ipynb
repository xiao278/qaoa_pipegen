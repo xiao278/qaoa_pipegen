{
 "cells": [
  {
   "cell_type": "markdown",
   "metadata": {},
   "source": [
    "# Imports\n",
    "\n",
    "Generating pipe tiles in a grid using constraint optimization"
   ]
  },
  {
   "cell_type": "code",
   "execution_count": 215,
   "metadata": {},
   "outputs": [],
   "source": [
    "from qiskit import QuantumCircuit\n",
    "# from qiskit_utils import algorithm_globals\n",
    "from qiskit_algorithms.minimum_eigensolvers import QAOA, NumPyMinimumEigensolver\n",
    "from qiskit_algorithms.optimizers import *\n",
    "from qiskit.primitives import Sampler\n",
    "from qiskit_optimization.algorithms import (\n",
    "    MinimumEigenOptimizer,\n",
    "    RecursiveMinimumEigenOptimizer,\n",
    "    SolutionSample,\n",
    "    OptimizationResultStatus,\n",
    ")\n",
    "from qiskit_optimization import *\n",
    "from qiskit_optimization.converters import QuadraticProgramToQubo\n",
    "from qiskit.visualization import plot_histogram\n",
    "from typing import List, Tuple\n",
    "import numpy as np\n",
    "import matplotlib.pyplot as plt\n",
    "import networkx as nx"
   ]
  },
  {
   "cell_type": "markdown",
   "metadata": {},
   "source": [
    "# Creating a graph\n",
    "\n",
    "We will put numbers in a 2D matrix to represent a grid-like graph. Each cell in the matrix represents a vertex of the graph."
   ]
  },
  {
   "cell_type": "code",
   "execution_count": 216,
   "metadata": {},
   "outputs": [
    {
     "name": "stdout",
     "output_type": "stream",
     "text": [
      "[[0 1 2]\n",
      " [3 4 5]\n",
      " [6 7 8]]\n"
     ]
    }
   ],
   "source": [
    "#Dims\n",
    "rows = 3\n",
    "cols = 3\n",
    "\n",
    "#construct a matrix representation of vertices/tiles, matrix[row][col]\n",
    "G = nx.Graph()\n",
    "tile_matrix = np.zeros(shape=(rows,cols), dtype=int) #tile (row,col) -> tile id\n",
    "tile_mappings = dict() #tile id -> tile (row,col)\n",
    "tile_count = 0\n",
    "for r in range(rows):\n",
    "    for c in range(cols):\n",
    "        tile_matrix[r,c] = tile_count\n",
    "        tile_mappings[tile_count] = (r,c)\n",
    "        G.add_node(tile_count)\n",
    "        tile_count += 1\n",
    "\n",
    "print(tile_matrix)"
   ]
  },
  {
   "cell_type": "markdown",
   "metadata": {},
   "source": [
    "# Adding edges to the graph \n",
    "\n",
    " We can also use the matrix to determine what tiles are neighbors and in what direction and create edges to a tiles up down left and right neighbors.\n",
    "\n",
    " We can use these edges to represent pipes, as shown in the output graph image of this block of code"
   ]
  },
  {
   "cell_type": "code",
   "execution_count": 217,
   "metadata": {},
   "outputs": [
    {
     "data": {
      "image/png": "[encoded data removed]",
      "text/plain": [
       "<Figure size 640x480 with 1 Axes>"
      ]
     },
     "metadata": {},
     "output_type": "display_data"
    }
   ],
   "source": [
    "def make_edge(u,v):\n",
    "    return \"e(%d,%d)\" % (min(u,v), max(u,v))\n",
    "\n",
    "#primitive: tuple (number, dir) i.e. 0d is for the downward edge on 0\n",
    "#full edge: e(u,v) where u < v\n",
    "#half edge: h(u,dir)\n",
    "edge_mappings = dict()\n",
    "#establish edges by trying to go up down left right in the matrix.\n",
    "for r in range(rows):\n",
    "    for c in range(cols):\n",
    "        this_tile = tile_matrix[r,c] #id of tile at row r and column c\n",
    "        #down edge (r+1)\n",
    "        if (rows==1): #cannot use edges, t is for tile, and vertical and horizontal tiles can be present in the same location (to form cross)\n",
    "            edge_mappings[\"t(%d,%s)\" % (tile_matrix[r,c],'v')] = [(tile_matrix[r,c], 'd'),(tile_matrix[r,c], 'u')]\n",
    "        elif (r+1 < rows):\n",
    "            e_down = make_edge(this_tile, tile_matrix[r+1,c])\n",
    "            edge_mappings[e_down] = [(this_tile, 'd'), (tile_matrix[r+1,c], 'u')]\n",
    "            G.add_edge(this_tile, tile_matrix[r+1,c])\n",
    "            if (r == 0):\n",
    "                edge_mappings[e_down].append((this_tile,'u'))\n",
    "            if (r+1 == rows-1):\n",
    "                edge_mappings[e_down].append((tile_matrix[r+1,c],'d'))\n",
    "\n",
    "        #right edge (c+1)\n",
    "        if (cols==1):\n",
    "            edge_mappings[\"t(%d,%s)\" % (tile_matrix[r,c],'h')] = [(tile_matrix[r,c], 'r'),(tile_matrix[r,c], 'l')]\n",
    "        elif (c+1 < cols): \n",
    "            e_right = make_edge(this_tile, tile_matrix[r,c+1])\n",
    "            edge_mappings[e_right] = [(this_tile, 'r'), (tile_matrix[r,c+1], 'l')]\n",
    "            G.add_edge(this_tile, tile_matrix[r,c+1])\n",
    "            if (c == 0):\n",
    "                edge_mappings[e_right].append((this_tile,'l'))\n",
    "            if (c+1 == cols-1):\n",
    "                edge_mappings[e_right].append((tile_matrix[r,c+1],'r'))\n",
    "#mapping primitive i.e. (0,'d') to an edge i.e. (0,2)\n",
    "h_mappings = dict()\n",
    "\n",
    "for key in edge_mappings:\n",
    "    for prim in edge_mappings[key]:\n",
    "        h_mappings[prim] = key\n",
    "\n",
    "nodepos={}\n",
    "for key in tile_mappings:\n",
    "    tilepos = tile_mappings[key]\n",
    "    nodepos[key] = (tilepos[1], -tilepos[0])\n",
    "pos = nx.spring_layout(G,pos=nodepos, fixed=nodepos.keys())\n",
    "nx.draw_networkx(G,pos)"
   ]
  },
  {
   "cell_type": "markdown",
   "metadata": {},
   "source": [
    "# Setting up constraints for the edges\n",
    "\n",
    "The only requirement is that pipes are not cut off. Since we are only accounting for 4 tile types (none, horizontal, vertical, cross), this means that if a tile X has a tile to the right that is a horizontal pipe, then X must be either a cross or a horizontal pipe.\n",
    "\n",
    "This means we can treat each edge as a binary variable: 1 means a pipe in the edge's orientation is present in the two tiles this edge connects, and 0 means there is no pipe. Although a cross-junction type tile is not strictly encoded, it can still be generated if a tile's vertical edges and horizontal edges are both marked as 1.\n",
    "\n",
    "To ensure that pipes do not get cut off, we can force \"opposing\" edges of a vertex/tile to exist or not exist at the same time. So that pair of edges must both be 1 or 0 together."
   ]
  },
  {
   "cell_type": "code",
   "execution_count": 218,
   "metadata": {},
   "outputs": [],
   "source": [
    "# Create a QUBO\n",
    "qubo = QuadraticProgram()\n",
    "\n",
    "#linear combination coefficient:\n",
    "coefs = {}\n",
    "for edge in edge_mappings:\n",
    "    qubo.binary_var(edge)\n",
    "    if edge[0] == \"t\":\n",
    "        coefs[edge] = 0\n",
    "    else:\n",
    "        coefs[edge] = None\n",
    "\n",
    "for r in range(rows):\n",
    "    for c in range(cols):\n",
    "        this_tile = tile_matrix[r,c]\n",
    "        edge_u = h_mappings[(this_tile, 'u')]\n",
    "        edge_d = h_mappings[(this_tile, 'd')]\n",
    "        edge_l = h_mappings[(this_tile, 'l')]\n",
    "        edge_r = h_mappings[(this_tile, 'r')]\n",
    "        if edge_u != edge_d:\n",
    "            qubo.linear_constraint(linear={edge_u:1, edge_d:-1}, sense=\"==\", rhs=0)\n",
    "            coefs[edge_u] = 1\n",
    "            coefs[edge_d] = 1\n",
    "        elif coefs[edge_u] == None:\n",
    "            coefs[edge_u] = 0\n",
    "        if edge_r != edge_l:\n",
    "            qubo.linear_constraint(linear={edge_r:1, edge_l:-1}, sense=\"==\", rhs=0)\n",
    "            coefs[edge_r] = 1\n",
    "            coefs[edge_l] = 1\n",
    "        elif coefs[edge_r] == None:\n",
    "            coefs[edge_r] = 0"
   ]
  },
  {
   "cell_type": "markdown",
   "metadata": {},
   "source": [
    "# Adding additional constraints\n",
    "\n",
    "Force tile(s) to have a specific pipe layout. (n - nothing, v - vertical, h - horizontal, x - junction)"
   ]
  },
  {
   "cell_type": "code",
   "execution_count": 219,
   "metadata": {},
   "outputs": [
    {
     "name": "stdout",
     "output_type": "stream",
     "text": [
      "Problem name: \n",
      "\n",
      "Minimize\n",
      "  e(0,1) + e(0,3) + e(1,2) + e(1,4) + e(2,5) + e(3,4) + e(3,6) + e(4,5) + e(4,7)\n",
      "  + e(5,8) + e(6,7) + e(7,8)\n",
      "\n",
      "Subject to\n",
      "  Linear constraints (6)\n",
      "    -e(0,1) + e(1,2) == 0  'c0'\n",
      "    e(0,3) - e(3,6) == 0  'c1'\n",
      "    e(1,4) - e(4,7) == 0  'c2'\n",
      "    -e(3,4) + e(4,5) == 0  'c3'\n",
      "    e(2,5) - e(5,8) == 0  'c4'\n",
      "    -e(6,7) + e(7,8) == 0  'c5'\n",
      "\n",
      "  Binary variables (12)\n",
      "    e(0,3) e(0,1) e(1,4) e(1,2) e(2,5) e(3,6) e(3,4) e(4,7) e(4,5) e(5,8) e(6,7)\n",
      "    e(7,8)\n",
      "\n"
     ]
    }
   ],
   "source": [
    "# example:\n",
    "# tile_constraints = {(0,0): \"h\", (2,2): \"v\"}\n",
    "tile_constraints = {}\n",
    "\n",
    "def constrainHorizontal(tile_num, should_exist):\n",
    "    edge_r = h_mappings[(tile_num, 'r')]\n",
    "    qubo.linear_constraint(linear={edge_r:1}, sense=\"==\", rhs=(1 if should_exist else 0))\n",
    "\n",
    "def constrainVertical(tile_num, should_exist):\n",
    "    edge_d = h_mappings[(tile_num, 'd')]\n",
    "    qubo.linear_constraint(linear={edge_d:1}, sense=\"==\", rhs=(1 if should_exist else 0))\n",
    "\n",
    "for t in tile_constraints:\n",
    "    r, c = t\n",
    "    tile_num = tile_matrix[r,c]\n",
    "    tile_type = tile_constraints[t]\n",
    "    if tile_type == \"n\":\n",
    "        constrainHorizontal(tile_num, False)\n",
    "        constrainVertical(tile_num, False)\n",
    "    elif tile_type == \"v\":\n",
    "        constrainHorizontal(tile_num, False)\n",
    "        constrainVertical(tile_num, True)\n",
    "    elif tile_type == \"h\":\n",
    "        constrainHorizontal(tile_num, True)\n",
    "        constrainVertical(tile_num, False)\n",
    "    elif tile_type == \"x\":\n",
    "        constrainHorizontal(tile_num, True)\n",
    "        constrainVertical(tile_num, True)\n",
    "\n",
    "qubo.minimize(linear = coefs, quadratic={})\n",
    "\n",
    "print(qubo.prettyprint())"
   ]
  },
  {
   "cell_type": "markdown",
   "metadata": {},
   "source": [
    "# Conversion quantum circuit"
   ]
  },
  {
   "cell_type": "code",
   "execution_count": 220,
   "metadata": {},
   "outputs": [
    {
     "name": "stdout",
     "output_type": "stream",
     "text": [
      "offset: 45.0\n",
      "operator:\n",
      "SparsePauliOp(['IIIIIIIIIIIZ', 'IIIIIIIIIIZI', 'IIIIIIIIIZII', 'IIIIIIIIZIII', 'IIIIIIIZIIII', 'IIIIIIZIIIII', 'IIIIIZIIIIII', 'IIIIZIIIIIII', 'IIIZIIIIIIII', 'IIZIIIIIIIII', 'IZIIIIIIIIII', 'ZIIIIIIIIIII', 'IIIIIIIIZIZI', 'IIIIIIZIIIIZ', 'IIIIZIIIIZII', 'IIIZIZIIIIII', 'IIZIIIIZIIII', 'ZZIIIIIIIIII'],\n",
      "              coeffs=[-0.5+0.j, -0.5+0.j, -0.5+0.j, -0.5+0.j, -0.5+0.j, -0.5+0.j, -0.5+0.j,\n",
      " -0.5+0.j, -0.5+0.j, -0.5+0.j, -0.5+0.j, -0.5+0.j, -6.5+0.j, -6.5+0.j,\n",
      " -6.5+0.j, -6.5+0.j, -6.5+0.j, -6.5+0.j])\n"
     ]
    }
   ],
   "source": [
    "converter = QuadraticProgramToQubo()\n",
    "qubo_with_penalty = converter.convert(qubo)\n",
    "op, offset = qubo_with_penalty.to_ising()\n",
    "print(\"offset: {}\".format(offset))\n",
    "print(\"operator:\")\n",
    "print(op)"
   ]
  },
  {
   "cell_type": "markdown",
   "metadata": {},
   "source": [
    "# Circuit Execution"
   ]
  },
  {
   "cell_type": "code",
   "execution_count": 221,
   "metadata": {},
   "outputs": [
    {
     "name": "stdout",
     "output_type": "stream",
     "text": [
      "objective function value: 0.0\n",
      "variable values: e(0,3)=0.0, e(0,1)=0.0, e(1,4)=0.0, e(1,2)=0.0, e(2,5)=0.0, e(3,6)=0.0, e(3,4)=0.0, e(4,7)=0.0, e(4,5)=0.0, e(5,8)=0.0, e(6,7)=0.0, e(7,8)=0.0\n",
      "status: SUCCESS\n"
     ]
    }
   ],
   "source": [
    "qaoa_mes = QAOA(sampler=Sampler(options={\"shots\":100000}), optimizer=COBYLA())\n",
    "qaoa = MinimumEigenOptimizer(qaoa_mes)  # using QAOA\n",
    "qaoa_result = qaoa.solve(qubo)\n",
    "print(qaoa_result.prettyprint())"
   ]
  },
  {
   "cell_type": "markdown",
   "metadata": {},
   "source": [
    "# Getting Solution\n",
    "Save results that fit the constraints"
   ]
  },
  {
   "cell_type": "code",
   "execution_count": 222,
   "metadata": {},
   "outputs": [
    {
     "name": "stdout",
     "output_type": "stream",
     "text": [
      "0.87436\n"
     ]
    }
   ],
   "source": [
    "def get_filtered_samples(\n",
    "    samples: List[SolutionSample],\n",
    "    threshold: float = 0,\n",
    "    allowed_status: Tuple[OptimizationResultStatus] = (OptimizationResultStatus.SUCCESS,),\n",
    "):\n",
    "    res = []\n",
    "    for s in samples:\n",
    "        if s.status in allowed_status and s.probability > threshold:\n",
    "            res.append(s)\n",
    "\n",
    "    return res\n",
    "filtered_samples = get_filtered_samples(\n",
    "    qaoa_result.samples, threshold=0.001, allowed_status=(OptimizationResultStatus.SUCCESS,)\n",
    ")\n",
    "\n",
    "total_prob = 0\n",
    "for s in filtered_samples:\n",
    "    total_prob += s.probability\n",
    "\n",
    "print(total_prob)"
   ]
  },
  {
   "cell_type": "markdown",
   "metadata": {},
   "source": [
    "# Displaying Valid Solutions"
   ]
  },
  {
   "cell_type": "code",
   "execution_count": 223,
   "metadata": {},
   "outputs": [
    {
     "data": {
      "image/png": "[encoded data removed]",
      "text/plain": [
       "<Figure size 2000x1200 with 42 Axes>"
      ]
     },
     "metadata": {},
     "output_type": "display_data"
    }
   ],
   "source": [
    "height, width, channel = 3 * rows, 3 * cols, 3\n",
    "\n",
    "figcols = 25 // cols\n",
    "figrows = len(filtered_samples) // figcols + 1\n",
    "fig = plt.figure(figsize=(20, figrows * 2)) \n",
    "\n",
    "\n",
    "def paint(tile_mappings, h):\n",
    "    tile, dir = h\n",
    "    r, c = tile_mappings[tile]\n",
    "    center = (r * 3 + 1, c * 3 + 1) #center of the (r,c) tile on the canvas\n",
    "    dir_modifier = None\n",
    "    if dir == 'u':\n",
    "        dir_modifier = (-1,0)\n",
    "    if dir == 'd':\n",
    "        dir_modifier = (1,0)\n",
    "    if dir == 'l':\n",
    "        dir_modifier = (0,-1)\n",
    "    if dir == 'r':\n",
    "        dir_modifier = (0,1)\n",
    "    draw_tile_dir = (center[0] + dir_modifier[0], center[1] + dir_modifier[1])\n",
    "    return [center, draw_tile_dir]\n",
    "\n",
    "for s in range(len(filtered_samples)):\n",
    "    arr = np.full((height, width, channel), [200, 200, 200], dtype=('uint8'))\n",
    "    draw_target = filtered_samples[s]\n",
    "    for i, v in enumerate(draw_target.x):\n",
    "        if int(v) == 1:\n",
    "            e = qaoa_result.variables[i].name\n",
    "            prims = edge_mappings[e]\n",
    "            for p in prims:\n",
    "                paint_tiles = paint(tile_mappings, p)\n",
    "                for t in paint_tiles:\n",
    "                    for chan in range(3):\n",
    "                        arr[t[0], t[1], chan] = 0\n",
    "    fig.add_subplot(figrows, figcols, s + 1)\n",
    "    plt.imshow(arr)\n",
    "    plt.axis('off')"
   ]
  }
 ],
 "metadata": {
  "kernelspec": {
   "display_name": "Python 3",
   "language": "python",
   "name": "python3"
  },
  "language_info": {
   "codemirror_mode": {
    "name": "ipython",
    "version": 3
   },
   "file_extension": ".py",
   "mimetype": "text/x-python",
   "name": "python",
   "nbconvert_exporter": "python",
   "pygments_lexer": "ipython3",
   "version": "3.11.5"
  },
  "orig_nbformat": 4,
  "vscode": {
   "interpreter": {
    "hash": "52634da84371cba311ea128a5ea7cdc41ff074b781779e754b270ff9f8153cee"
   }
  }
 },
 "nbformat": 4,
 "nbformat_minor": 2
}
